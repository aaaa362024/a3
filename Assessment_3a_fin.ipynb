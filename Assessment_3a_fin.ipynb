{
  "cells": [
    {
      "cell_type": "markdown",
      "metadata": {
        "id": "MMH2XsnHTrhE"
      },
      "source": [
        "# Assessment 3a: Generating adversarial examples\n"
      ]
    },
    {
      "cell_type": "markdown",
      "metadata": {
        "id": "KajkOe4xTrhH"
      },
      "source": [
        "In this assessment, you are required to generate five adversarial example images to fool a machine learning model into misclassifying them. This assessment is quite similar to the practical session, so please carefully read the practical session and understand its content before you go through this assessment.\n",
        "\n",
        "The dataset you will be using is FashionMNST, a series of images of different types of clothing. Each image is classified according to 10 different types of clothing."
      ]
    },
    {
      "cell_type": "markdown",
      "metadata": {
        "id": "KwwUwndXTrhI"
      },
      "source": [
        "![fashion-mnist.png](attachment:fashion-mnist.png)"
      ]
    },
    {
      "cell_type": "markdown",
      "metadata": {
        "id": "ELRHuNnJTrhI"
      },
      "source": [
        "Each training and test example is assigned to one of the following labels:\n",
        "\n",
        "| Label\t| 0 | 1 | 2 | 3 | 4 | 5 | 6 | 7 | 8 | 9 |\n",
        "| :---: | :---: | :---: | :---: | :---: | :---: | :---: |:---: | :---: |:---: | :---: |\n",
        "|  | T-shirt/top| Trouser | Pullover | Dress | Coat | Sandal | Shirt | Sneaker | Bag | Ankle boot |\n",
        "\n",
        "Now you need to create a list named as \"classes\" to store these labels in String, and print this list.\n",
        "\n",
        "Expected outputs:\n",
        "\n",
        "    ['T-shirt/top', 'Trouser', 'Pullover', 'Dress', 'Coat', 'Sandal', 'Shirt', 'Sneaker', 'Bag', 'Ankle boot']"
      ]
    },
    {
      "cell_type": "code",
      "execution_count": 7,
      "metadata": {
        "colab": {
          "base_uri": "https://localhost:8080/"
        },
        "id": "mSaBlZUYTrhJ",
        "outputId": "e52863cf-cc6f-4b2b-9d72-dd93f736b33a"
      },
      "outputs": [
        {
          "output_type": "stream",
          "name": "stdout",
          "text": [
            "['T-shirt/top', 'Trouser', 'Pullover', 'Dress', 'Coat', 'Sandal', 'Shirt', 'Sneaker', 'Bag', 'Ankle boot']\n",
            "Sandal\n"
          ]
        }
      ],
      "source": [
        "classes = ['T-shirt/top', 'Trouser', 'Pullover', 'Dress', 'Coat', 'Sandal', 'Shirt', 'Sneaker', 'Bag', 'Ankle boot' ]\n",
        "print(classes)\n",
        "print(classes[5])"
      ]
    },
    {
      "cell_type": "markdown",
      "metadata": {
        "id": "OQhq3aeGTrhK"
      },
      "source": [
        "Before we go through training the deep learning model, please import the necessary packages. These will be the same as those we introduced in the Module 4 and 5 practical activities."
      ]
    },
    {
      "cell_type": "code",
      "execution_count": 2,
      "metadata": {
        "id": "s6EYh8JETFuf"
      },
      "outputs": [],
      "source": [
        "\n",
        "import torch\n",
        "import torch.nn as nn\n",
        "import torchvision.datasets as dsets\n",
        "import torchvision.transforms as transforms\n",
        "from torch.autograd import Variable\n",
        "\n",
        "import numpy as np\n",
        "import math\n",
        "import random\n",
        "\n"
      ]
    },
    {
      "cell_type": "markdown",
      "metadata": {
        "id": "GhTwE70VTrhK"
      },
      "source": [
        "\n",
        "<p>Next, we declare some hyper parameters for model training, including <strong>training epochs</strong>, <strong>batch size</strong> and <strong>learning rate</strong>.\n",
        "    \n",
        "Training epochs can be set as any integer number greater than 10. Batch size can be set as any number from 32, 64, 100. Learning rate should be set as 0.001</p>\n"
      ]
    },
    {
      "cell_type": "code",
      "execution_count": 15,
      "metadata": {
        "id": "AuLCfWjlTFug"
      },
      "outputs": [],
      "source": [
        "\n",
        "# Hyper Parameters\n",
        "NUM_EPOCHS = 3\n",
        "BATCH_SIZE = 100\n",
        "LEARNING_RATE1 = 0.001\n",
        "\n"
      ]
    },
    {
      "cell_type": "markdown",
      "metadata": {
        "id": "9cI-E4jsTrhL"
      },
      "source": [
        "Load the training dataset test dataset. The name of required dataset is \"FashionMNIST\". To get this dataset, simply replace 'MNIST' in the practical session as 'FashionMNIST'."
      ]
    },
    {
      "cell_type": "code",
      "execution_count": 16,
      "metadata": {
        "id": "llBOb0jcTFug"
      },
      "outputs": [],
      "source": [
        "# MNIST Dataset\n",
        "transform = transforms.Compose([transforms.Resize((32, 32)),\n",
        "                                transforms.ToTensor(),\n",
        "                                transforms.Normalize(mean = [0.5],std = [0.5])\n",
        "                               ])\n",
        "\n",
        "# Download training dataset\n",
        "train_dataset = dsets.FashionMNIST(root = './data/',\n",
        "                            train = True,\n",
        "                            transform = transform,\n",
        "                            download = True)\n",
        "\n",
        "# Download testing dataset\n",
        "test_dataset = dsets.FashionMNIST(root = './data/',\n",
        "                           train = False,\n",
        "                           transform = transform,\n",
        "                           download = True)\n",
        "\n",
        "# Data Loader (Input Pipeline)\n",
        "# The first training dataset for target model\n",
        "train_loader = torch.utils.data.DataLoader(dataset = train_dataset,\n",
        "                                           batch_size = BATCH_SIZE,\n",
        "                                           shuffle = True)\n",
        "\n",
        "# The original test dataset\n",
        "test_loader = torch.utils.data.DataLoader(dataset = test_dataset,\n",
        "                                          shuffle = False)\n",
        "\n"
      ]
    },
    {
      "cell_type": "markdown",
      "metadata": {
        "id": "2qCgLa3hTrhL"
      },
      "source": [
        "\n",
        "Please print the number of how many images from both training dataset and test dataset.</p>\n",
        "\n",
        "Expected output is:\n",
        "\n",
        "    The length of training dataset:  60000\n",
        "\n",
        "    The length of test dataset:  "
      ]
    },
    {
      "cell_type": "code",
      "execution_count": 17,
      "metadata": {
        "id": "e6j_CVwETFuh",
        "colab": {
          "base_uri": "https://localhost:8080/"
        },
        "outputId": "509d770a-617a-4f1a-a4ae-fd5ea79322d3"
      },
      "outputs": [
        {
          "output_type": "stream",
          "name": "stdout",
          "text": [
            "The length of training dataset:  60000\n",
            "The length of test dataset:  10000\n"
          ]
        }
      ],
      "source": [
        "\n",
        "print(\"The length of training dataset: \", len(train_dataset))\n",
        "print(\"The length of test dataset: \", len(test_dataset))\n",
        "\n"
      ]
    },
    {
      "cell_type": "markdown",
      "metadata": {
        "id": "_1mufsAVTrhM"
      },
      "source": [
        "\n",
        "Show the first 5 images of the training dataset to see what they look like.</p>\n",
        "\n",
        "In this assessment, you are required to demonstrate and create adversarial examples for the first five images. Simply change the index of the training dataset and create five different variables for five images.\n",
        "\n",
        "Example for the third image:\n",
        "    \n",
        "    img3 = training_dataset[2][0].squeeze(0).data\n",
        "    "
      ]
    },
    {
      "cell_type": "code",
      "execution_count": 18,
      "metadata": {
        "scrolled": false,
        "colab": {
          "base_uri": "https://localhost:8080/",
          "height": 1000
        },
        "id": "3U1eZJShTrhM",
        "outputId": "923d2a8a-5662-4645-96b7-e7cbd13ece96"
      },
      "outputs": [
        {
          "output_type": "display_data",
          "data": {
            "text/plain": [
              "<Figure size 640x480 with 1 Axes>"
            ],
            "image/png": "[encoded data removed]"
          },
          "metadata": {}
        },
        {
          "output_type": "display_data",
          "data": {
            "text/plain": [
              "<Figure size 640x480 with 1 Axes>"
            ],
            "image/png": "[encoded data removed]"
          },
          "metadata": {}
        },
        {
          "output_type": "display_data",
          "data": {
            "text/plain": [
              "<Figure size 640x480 with 1 Axes>"
            ],
            "image/png": "[encoded data removed]"
          },
          "metadata": {}
        },
        {
          "output_type": "display_data",
          "data": {
            "text/plain": [
              "<Figure size 640x480 with 1 Axes>"
            ],
            "image/png": "[encoded data removed]"
          },
          "metadata": {}
        },
        {
          "output_type": "display_data",
          "data": {
            "text/plain": [
              "<Figure size 640x480 with 1 Axes>"
            ],
            "image/png": "[encoded data removed]"
          },
          "metadata": {}
        }
      ],
      "source": [
        "import matplotlib.pyplot as plt\n",
        "img1 = train_dataset[0][0].squeeze(0).data\n",
        "img1 = img1.numpy()\n",
        "plt.imshow(img1)\n",
        "plt.show()\n",
        "\n",
        "import matplotlib.pyplot as plt\n",
        "img2 = train_dataset[1][0].squeeze(0).data\n",
        "img2 = img2.numpy()\n",
        "plt.imshow(img2)\n",
        "plt.show()\n",
        "\n",
        "import matplotlib.pyplot as plt\n",
        "img3 = train_dataset[2][0].squeeze(0).data\n",
        "img3 = img3.numpy()\n",
        "plt.imshow(img3)\n",
        "plt.show()\n",
        "\n",
        "import matplotlib.pyplot as plt\n",
        "img4 = train_dataset[3][0].squeeze(0).data\n",
        "img4 = img4.numpy()\n",
        "plt.imshow(img4)\n",
        "plt.show()\n",
        "\n",
        "import matplotlib.pyplot as plt\n",
        "img5 = train_dataset[4][0].squeeze(0).data\n",
        "img5 = img5.numpy()\n",
        "plt.imshow(img5)\n",
        "plt.show()"
      ]
    },
    {
      "cell_type": "markdown",
      "metadata": {
        "id": "DzhwBc_jTrhM"
      },
      "source": [
        "<p>In this assessment we will use the same model as our practical activities to build and train the model. Use the code from the practical activity to add the model.</p>"
      ]
    },
    {
      "cell_type": "code",
      "execution_count": 19,
      "metadata": {
        "id": "P_tHvqO0TrhM"
      },
      "outputs": [],
      "source": [
        "\n",
        "class Classifier(nn.Module):\n",
        "    def __init__(self):\n",
        "        super(Classifier, self).__init__()\n",
        "        self.layer1 = nn.Sequential(\n",
        "            nn.Conv2d(1, 128, kernel_size = (3, 3), stride = (1, 1), padding = (1, 1)),\n",
        "            nn.BatchNorm2d(128, eps = 1e-05, momentum = 0.1, affine = True, track_running_stats = True),\n",
        "            nn.MaxPool2d(kernel_size = 2, stride = 2, padding = 0, dilation = 1, ceil_mode = False),\n",
        "            nn.ReLU(inplace = True)\n",
        "        )\n",
        "        self.layer2 = nn.Sequential(\n",
        "            nn.Conv2d(128, 256, kernel_size = (3, 3), stride = (1, 1), padding = (1, 1)),\n",
        "            nn.BatchNorm2d(256, eps = 1e-05, momentum = 0.1, affine = True, track_running_stats = True),\n",
        "            nn.MaxPool2d(kernel_size = 2, stride = 2, padding = 0, dilation = 1, ceil_mode = False),\n",
        "            nn.ReLU(inplace = True)\n",
        "        )\n",
        "        self.layer3 = nn.Sequential(\n",
        "            nn.Conv2d(256, 512, kernel_size = (3, 3), stride = (1, 1), padding = (1, 1)),\n",
        "            nn.BatchNorm2d(512, eps = 1e-05, momentum = 0.1, affine = True, track_running_stats = True),\n",
        "            nn.MaxPool2d(kernel_size = 2, stride = 2, padding = 0, dilation = 1, ceil_mode = False),\n",
        "            nn.ReLU(inplace = True)\n",
        "        )\n",
        "        self.fc = nn.Sequential(\n",
        "            nn.Linear(in_features = 8192, out_features = 50, bias = True),\n",
        "            nn.Dropout(p = 0.5),\n",
        "            nn.Linear(in_features = 50, out_features = 10, bias = True)\n",
        "        )\n",
        "\n",
        "    def forward(self, x):\n",
        "        out = self.layer1(x)\n",
        "        out = self.layer2(out)\n",
        "        out = self.layer3(out)\n",
        "        out = out.view(out.size(0), -1)\n",
        "        out = self.fc(out)\n",
        "        return out\n",
        "\n",
        "# Define a model cnn belongs to CNN class\n",
        "classifierModel = Classifier()\n",
        "# Loss and Optimizer\n",
        "criterion1 = nn.CrossEntropyLoss()\n",
        "optimizer1 = torch.optim.Adam(classifierModel.parameters(), lr = LEARNING_RATE1)\n"
      ]
    },
    {
      "cell_type": "markdown",
      "metadata": {
        "id": "_X1la3wwTrhM"
      },
      "source": [
        "\n",
        "<p>Let's train our model. We train the model for the number of epochs you set above, which means all training data will pass the model that number times. The training process may take different lengths of time depending on the the processing capability between different devices. Again, you will need to add the correct code from the practical activity.</p>\n"
      ]
    },
    {
      "cell_type": "code",
      "execution_count": 20,
      "metadata": {
        "scrolled": true,
        "colab": {
          "base_uri": "https://localhost:8080/"
        },
        "id": "Gu7n3tR-TrhM",
        "outputId": "437de12b-7d17-40d6-f618-2d1f3b0e5fcc"
      },
      "outputs": [
        {
          "output_type": "stream",
          "name": "stdout",
          "text": [
            "Epoch [1/3], Iter [100/600] Loss: 0.8234\n",
            "Epoch [1/3], Iter [200/600] Loss: 0.5330\n",
            "Epoch [1/3], Iter [300/600] Loss: 0.4943\n",
            "Epoch [1/3], Iter [400/600] Loss: 0.4259\n",
            "Epoch [1/3], Iter [500/600] Loss: 0.2685\n",
            "Epoch [1/3], Iter [600/600] Loss: 0.3262\n",
            "Epoch [2/3], Iter [100/600] Loss: 0.3024\n",
            "Epoch [2/3], Iter [200/600] Loss: 0.3533\n",
            "Epoch [2/3], Iter [300/600] Loss: 0.3932\n",
            "Epoch [2/3], Iter [400/600] Loss: 0.3021\n",
            "Epoch [2/3], Iter [500/600] Loss: 0.3417\n",
            "Epoch [2/3], Iter [600/600] Loss: 0.3991\n",
            "Epoch [3/3], Iter [100/600] Loss: 0.2492\n",
            "Epoch [3/3], Iter [200/600] Loss: 0.3073\n",
            "Epoch [3/3], Iter [300/600] Loss: 0.2769\n",
            "Epoch [3/3], Iter [400/600] Loss: 0.3577\n",
            "Epoch [3/3], Iter [500/600] Loss: 0.3020\n",
            "Epoch [3/3], Iter [600/600] Loss: 0.2707\n"
          ]
        }
      ],
      "source": [
        "# Train the Model\n",
        "for epoch in range(NUM_EPOCHS):\n",
        "    for i, (images, labels) in enumerate(train_loader):\n",
        "#         print(labels)\n",
        "#         print(type(labels))\n",
        "\n",
        "#         labels = dirtyLabel(labels, 7, 1)\n",
        "#         print(labels)\n",
        "#         print(type(labels))\n",
        "        images = Variable(images)\n",
        "        labels = Variable(labels)\n",
        "\n",
        "        # Forward + Backward + Optimize\n",
        "        optimizer1.zero_grad()\n",
        "        outputs = classifierModel(images)\n",
        "\n",
        "        loss = criterion1(outputs, labels)\n",
        "        loss.backward()\n",
        "        optimizer1.step()\n",
        "\n",
        "        if (i + 1) % 100 == 0:\n",
        "            print ('Epoch [%d/%d], Iter [%d/%d] Loss: %.4f'\n",
        "                   %(epoch + 1, NUM_EPOCHS, i + 1, len(train_dataset)//BATCH_SIZE, loss.data))\n",
        "\n"
      ]
    },
    {
      "cell_type": "markdown",
      "metadata": {
        "id": "8nklJjTHTrhM"
      },
      "source": [
        "\n",
        "<p>Let's test our model using test dataset. You are required to show the test accuracy of 1000 test images. You are also required to show the test accuracy of the model on each class (classes' names are created above already. Simply use classes[n], n is an integer of the label. For example, 'T-shirt/top' is classes[0])</p>\n",
        "\n",
        "Example output:\n",
        "\n",
        "Test Accuracy of the model on the 10000 test images: ** %\n",
        "\n",
        "Test Accuracy of the model on the class T-shirt/top is: ** %\n",
        "\n",
        "..."
      ]
    },
    {
      "cell_type": "code",
      "execution_count": 21,
      "metadata": {
        "colab": {
          "base_uri": "https://localhost:8080/"
        },
        "id": "bb8fyWSrqAIp",
        "outputId": "6f69ba23-62bc-4579-c97c-b0eebaf816cb"
      },
      "outputs": [
        {
          "output_type": "stream",
          "name": "stdout",
          "text": [
            "Test Accuracy of the model on the 10000 test images: 90 %\n",
            "Test Accuracy of the model on the class T-shirt/top is: 84 %\n",
            "Test Accuracy of the model on the class Trouser is: 98 %\n",
            "Test Accuracy of the model on the class Pullover is: 87 %\n",
            "Test Accuracy of the model on the class Dress is: 92 %\n",
            "Test Accuracy of the model on the class Coat is: 75 %\n",
            "Test Accuracy of the model on the class Sandal is: 97 %\n",
            "Test Accuracy of the model on the class Shirt is: 76 %\n",
            "Test Accuracy of the model on the class Sneaker is: 95 %\n",
            "Test Accuracy of the model on the class Bag is: 98 %\n",
            "Test Accuracy of the model on the class Ankle boot is: 98 %\n"
          ]
        }
      ],
      "source": [
        "\n",
        "# Test the Model\n",
        "classifierModel.eval() # Change model to 'eval' mode (BN uses moving mean/var).\n",
        "\n",
        "correct = 0\n",
        "total = 0\n",
        "correct0 = correct1 = correct2 = correct3 = correct4 = correct5 = correct6 = correct7 = correct8 = correct9 = 0\n",
        "total0 = total1 = total2 = total3 = total4 = total5 = total6 = total7 = total8 = total9 = 0\n",
        "\n",
        "names = locals()\n",
        "\n",
        "for images, labels in test_loader:\n",
        "    images = Variable(images)\n",
        "    outputs = classifierModel(images)\n",
        "    _, predicted = torch.max(outputs.data, 1)\n",
        "\n",
        "    total += labels.size(0)\n",
        "    correct += (predicted == labels).sum()\n",
        "\n",
        "    labels = labels.tolist()\n",
        "    for l in range(0, 10):\n",
        "        if labels[0] == l:\n",
        "            names[\"total\" + str(l)] = names[\"total\" + str(l)] + 1\n",
        "            predicted = predicted.tolist()\n",
        "            if predicted[0] == labels[0]:\n",
        "                names[\"correct\" + str(l)] = names[\"correct\" + str(l)] + 1\n",
        "\n",
        "print('Test Accuracy of the model on the 10000 test images: %d %%' % (100 * float(correct) / total))\n",
        "\n",
        "for num in range(0, 10):\n",
        "    print(\"Test Accuracy of the model on the class\",classes[num], \"is: %d %%\" % (100 * float(names[\"correct\" + str(num)]) / names[\"total\" + str(num)]))\n",
        "\n"
      ]
    },
    {
      "cell_type": "markdown",
      "metadata": {
        "id": "-SxEOgAuTrhN"
      },
      "source": [
        "\n",
        "Test the predicted label for the first image of training dataset which is already printed out above.\n",
        "\n",
        "Expected output:\n",
        "\n",
        "    \"Trouser\"\n"
      ]
    },
    {
      "cell_type": "code",
      "source": [
        "classifierModel.eval()\n",
        "images = torch.tensor(img1, dtype = torch.float32)\n",
        "images = images.unsqueeze(0)\n",
        "images = images.unsqueeze(0)\n",
        "images = Variable(images)\n",
        "outputs = classifierModel(images)\n",
        "_, predicted = torch.max(outputs.data, 1)\n",
        "print(classes[predicted])\n"
      ],
      "metadata": {
        "colab": {
          "base_uri": "https://localhost:8080/"
        },
        "id": "oDsAbXTHqFR2",
        "outputId": "baaf3035-76e9-4690-bf42-1a030f3646ec"
      },
      "execution_count": 49,
      "outputs": [
        {
          "output_type": "stream",
          "name": "stdout",
          "text": [
            "Ankle boot\n"
          ]
        }
      ]
    },
    {
      "cell_type": "markdown",
      "metadata": {
        "id": "HFiQo2QwTrhN"
      },
      "source": [
        "## Make your adversarial images\n",
        "\n",
        "To make adversarial images, some peturbed noise with the same shape as the original images(32 * 32) should be generated. As the demonstration in the pratical session, the adversarial image maybe not visually clear when the noise is large, and also the adversarial image cannot fool the deep learning model when the noise is small. Please carefully scale the noise. The task is to generate the small enough noise to fool the deep learning model.\n",
        "\n",
        "And then add generated noise on 5 original images, and print out 5 noisy images. Please note, you only need to generate noise and make adversarial examples for first five images we print above.\n",
        "\n",
        "Show 5 adversarial images, their original label, and their predicted labels from the deep learning model.\n",
        "Also print out 5 original images and 5 adversarial images as comparision."
      ]
    },
    {
      "cell_type": "code",
      "execution_count": 58,
      "metadata": {
        "colab": {
          "base_uri": "https://localhost:8080/"
        },
        "id": "Ea8NGZdbTrhN",
        "outputId": "84c55666-9a4c-42b4-9a25-5d23bb0bce1c"
      },
      "outputs": [
        {
          "output_type": "stream",
          "name": "stdout",
          "text": [
            "[[0.79807029 0.77596214 0.39091434 ... 0.80922717 0.18293194 0.17035545]\n",
            " [0.24589056 0.17123081 0.6688604  ... 0.73719898 0.39706273 0.22475639]\n",
            " [0.31863337 0.84595326 0.63535337 ... 0.37351567 0.45962784 0.755197  ]\n",
            " ...\n",
            " [0.36183402 0.89895811 0.98094576 ... 0.30109133 0.79902739 0.20482358]\n",
            " [0.50819803 0.12728965 0.51605599 ... 0.70076929 0.03067292 0.36790939]\n",
            " [0.58320811 0.2171732  0.39064703 ... 0.69027259 0.72526651 0.52319053]]\n"
          ]
        }
      ],
      "source": [
        "noiseMatrix = np.random.random((32,32))\n",
        "print(noiseMatrix)\n"
      ]
    },
    {
      "cell_type": "code",
      "source": [],
      "metadata": {
        "id": "sUeMJM4F7x0c"
      },
      "execution_count": null,
      "outputs": []
    },
    {
      "cell_type": "code",
      "execution_count": 62,
      "metadata": {
        "colab": {
          "base_uri": "https://localhost:8080/",
          "height": 430
        },
        "id": "JHUI-2C9TrhN",
        "outputId": "132fafc1-9d83-4fa5-e7af-057c5d5db860"
      },
      "outputs": [
        {
          "output_type": "display_data",
          "data": {
            "text/plain": [
              "<Figure size 640x480 with 1 Axes>"
            ],
            "image/png": "[encoded data removed]"
          },
          "metadata": {}
        }
      ],
      "source": [
        "noisyimg1 = img1 +noiseMatrix\n",
        "plt.imshow(noisyimg1)\n",
        "plt.show()\n"
      ]
    },
    {
      "cell_type": "code",
      "execution_count": 63,
      "metadata": {
        "colab": {
          "base_uri": "https://localhost:8080/"
        },
        "id": "7WvLPuW-TrhN",
        "outputId": "f8b1f9ea-cc8f-4a0e-897b-694818fcbf1c"
      },
      "outputs": [
        {
          "output_type": "stream",
          "name": "stdout",
          "text": [
            "torch.Size([1, 1, 32, 32])\n",
            "torch.FloatTensor\n"
          ]
        }
      ],
      "source": [
        "images = torch.tensor(noisyimg1, dtype = torch.float32)\n",
        "images = images.unsqueeze(0)\n",
        "images = images.unsqueeze(0)\n",
        "print(images.shape)\n",
        "print(images.type())\n"
      ]
    },
    {
      "cell_type": "code",
      "execution_count": 64,
      "metadata": {
        "colab": {
          "base_uri": "https://localhost:8080/"
        },
        "id": "rFpQhU0MTrhN",
        "outputId": "70092155-f1f7-448d-fcac-a9a2f7dd187c"
      },
      "outputs": [
        {
          "output_type": "stream",
          "name": "stdout",
          "text": [
            "Shirt\n"
          ]
        }
      ],
      "source": [
        "classifierModel.eval()\n",
        "images = Variable(images)\n",
        "outputs = classifierModel(images)\n",
        "_, predicted = torch.max(outputs.data, 1)\n",
        "print(classes[predicted])\n"
      ]
    },
    {
      "cell_type": "code",
      "execution_count": 29,
      "metadata": {
        "colab": {
          "base_uri": "https://localhost:8080/"
        },
        "id": "VUdRfGtPu8Bx",
        "outputId": "0086b640-9cce-4d4c-dd76-3878ccebc200"
      },
      "outputs": [
        {
          "output_type": "stream",
          "name": "stdout",
          "text": [
            "[[6.95727774e-02 2.54386996e-01 5.54456020e-01 ... 6.89515576e-01\n",
            "  1.54415105e-01 3.64358921e-01]\n",
            " [9.20822400e-01 2.47792084e-01 5.97192086e-01 ... 1.06783323e-01\n",
            "  8.62424232e-01 4.33071859e-01]\n",
            " [4.48006577e-02 2.98899372e-01 7.99392969e-02 ... 4.42040893e-01\n",
            "  6.11878075e-01 2.27823317e-01]\n",
            " ...\n",
            " [9.37589949e-01 1.15989198e-01 6.87048077e-01 ... 5.96571234e-04\n",
            "  7.62937331e-01 1.94218532e-01]\n",
            " [5.03500414e-01 7.25787836e-01 7.21641106e-01 ... 6.29595517e-01\n",
            "  3.04150374e-01 7.94908278e-01]\n",
            " [2.53621261e-01 9.69033654e-01 4.16519073e-01 ... 4.77717900e-01\n",
            "  4.22281095e-01 9.58593090e-01]]\n"
          ]
        }
      ],
      "source": [
        "noiseMatrix = np.random.random((32,32))\n",
        "print(noiseMatrix)"
      ]
    },
    {
      "cell_type": "code",
      "source": [
        "noisyimg2 = img2 + noiseMatrix\n",
        "plt.imshow(noisyimg2)\n",
        "plt.show()\n"
      ],
      "metadata": {
        "colab": {
          "base_uri": "https://localhost:8080/",
          "height": 430
        },
        "id": "OQgHsfeBvByb",
        "outputId": "c3d0cb10-bff8-4a45-b70f-a3596d586de2"
      },
      "execution_count": 30,
      "outputs": [
        {
          "output_type": "display_data",
          "data": {
            "text/plain": [
              "<Figure size 640x480 with 1 Axes>"
            ],
            "image/png": "[encoded data removed]"
          },
          "metadata": {}
        }
      ]
    },
    {
      "cell_type": "code",
      "source": [
        "images = torch.tensor(noisyimg2, dtype = torch.float32)\n",
        "images = images.unsqueeze(0)\n",
        "images = images.unsqueeze(0)\n",
        "print(images.shape)\n",
        "print(images.type())\n"
      ],
      "metadata": {
        "colab": {
          "base_uri": "https://localhost:8080/"
        },
        "id": "UvZM1x8wvDT2",
        "outputId": "1d94f7fa-6447-4247-f29c-a1f8a64a01fd"
      },
      "execution_count": 31,
      "outputs": [
        {
          "output_type": "stream",
          "name": "stdout",
          "text": [
            "torch.Size([1, 1, 32, 32])\n",
            "torch.FloatTensor\n"
          ]
        }
      ]
    },
    {
      "cell_type": "code",
      "source": [
        "classifierModel.eval()\n",
        "images = Variable(images)\n",
        "outputs = classifierModel(images)\n",
        "_, predicted = torch.max(outputs.data, 1)\n",
        "print(classes[predicted])\n"
      ],
      "metadata": {
        "colab": {
          "base_uri": "https://localhost:8080/"
        },
        "id": "DAlltyV5vDel",
        "outputId": "79b130cb-cf52-4450-914d-52418be3eea3"
      },
      "execution_count": 32,
      "outputs": [
        {
          "output_type": "stream",
          "name": "stdout",
          "text": [
            "Shirt\n"
          ]
        }
      ]
    },
    {
      "cell_type": "code",
      "source": [
        "noiseMatrix = np.random.random((32,32))\n",
        "print(noiseMatrix)"
      ],
      "metadata": {
        "colab": {
          "base_uri": "https://localhost:8080/"
        },
        "id": "JEm4maU-vDqk",
        "outputId": "89ca4364-c1f3-43eb-e94b-7742596f0ed5"
      },
      "execution_count": 33,
      "outputs": [
        {
          "output_type": "stream",
          "name": "stdout",
          "text": [
            "[[0.53340497 0.62109198 0.63860222 ... 0.69478575 0.58392804 0.7553414 ]\n",
            " [0.43403084 0.29416847 0.04385774 ... 0.24591206 0.64700382 0.04125294]\n",
            " [0.50187128 0.84591059 0.78984103 ... 0.69717224 0.40674708 0.76360937]\n",
            " ...\n",
            " [0.00524772 0.97225572 0.50648064 ... 0.10919438 0.08239483 0.76593147]\n",
            " [0.85530859 0.59546396 0.80253516 ... 0.57314945 0.72873749 0.94033354]\n",
            " [0.55524628 0.38185836 0.54082179 ... 0.0699159  0.76191514 0.85799188]]\n"
          ]
        }
      ]
    },
    {
      "cell_type": "code",
      "source": [
        "noisyimg3 = img3 + noiseMatrix\n",
        "plt.imshow(noisyimg3)\n",
        "plt.show()\n"
      ],
      "metadata": {
        "colab": {
          "base_uri": "https://localhost:8080/",
          "height": 430
        },
        "id": "teMkC9GBvD0n",
        "outputId": "c63b58ba-bcab-4bdf-f793-64ad633f747c"
      },
      "execution_count": 34,
      "outputs": [
        {
          "output_type": "display_data",
          "data": {
            "text/plain": [
              "<Figure size 640x480 with 1 Axes>"
            ],
            "image/png": "[encoded data removed]"
          },
          "metadata": {}
        }
      ]
    },
    {
      "cell_type": "code",
      "source": [
        "images = torch.tensor(noisyimg3, dtype = torch.float32)\n",
        "images = images.unsqueeze(0)\n",
        "images = images.unsqueeze(0)\n",
        "print(images.shape)\n",
        "print(images.type())\n"
      ],
      "metadata": {
        "colab": {
          "base_uri": "https://localhost:8080/"
        },
        "id": "mHIBHRfovD9j",
        "outputId": "cfec8052-3d8f-4f22-e654-57c10767ebf1"
      },
      "execution_count": 35,
      "outputs": [
        {
          "output_type": "stream",
          "name": "stdout",
          "text": [
            "torch.Size([1, 1, 32, 32])\n",
            "torch.FloatTensor\n"
          ]
        }
      ]
    },
    {
      "cell_type": "code",
      "source": [
        "classifierModel.eval()\n",
        "images = Variable(images)\n",
        "outputs = classifierModel(images)\n",
        "_, predicted = torch.max(outputs.data, 1)\n",
        "print(classes[predicted])\n"
      ],
      "metadata": {
        "colab": {
          "base_uri": "https://localhost:8080/"
        },
        "id": "FlVuN3TPvEHY",
        "outputId": "2924f2a8-9d7d-4b80-fb3f-d987851d37b3"
      },
      "execution_count": 36,
      "outputs": [
        {
          "output_type": "stream",
          "name": "stdout",
          "text": [
            "Bag\n"
          ]
        }
      ]
    },
    {
      "cell_type": "code",
      "source": [
        "noiseMatrix = np.random.random((32,32))\n",
        "print(noiseMatrix)\n"
      ],
      "metadata": {
        "colab": {
          "base_uri": "https://localhost:8080/"
        },
        "id": "anUs6vHgvET1",
        "outputId": "9e856124-e0ad-48a6-be43-9b0292644d95"
      },
      "execution_count": 37,
      "outputs": [
        {
          "output_type": "stream",
          "name": "stdout",
          "text": [
            "[[0.67593494 0.94922181 0.72101554 ... 0.13444832 0.17994665 0.43872331]\n",
            " [0.37899118 0.13017116 0.88090437 ... 0.37059868 0.12580701 0.53539969]\n",
            " [0.71812327 0.13514844 0.99241825 ... 0.72818648 0.03001473 0.88433657]\n",
            " ...\n",
            " [0.59174094 0.98042365 0.38947952 ... 0.26427228 0.05777414 0.99356191]\n",
            " [0.49808107 0.40890743 0.73177964 ... 0.1646963  0.33731093 0.21819456]\n",
            " [0.76652704 0.13387264 0.66692026 ... 0.97050971 0.01369741 0.53315367]]\n"
          ]
        }
      ]
    },
    {
      "cell_type": "code",
      "source": [
        "noisyimg4 = img4 + noiseMatrix\n",
        "plt.imshow(noisyimg4)\n",
        "plt.show()\n"
      ],
      "metadata": {
        "colab": {
          "base_uri": "https://localhost:8080/",
          "height": 430
        },
        "id": "aJq4utIivEca",
        "outputId": "e516eaf4-8f29-4f8b-d1f4-e4b04a724892"
      },
      "execution_count": 38,
      "outputs": [
        {
          "output_type": "display_data",
          "data": {
            "text/plain": [
              "<Figure size 640x480 with 1 Axes>"
            ],
            "image/png": "[encoded data removed]"
          },
          "metadata": {}
        }
      ]
    },
    {
      "cell_type": "code",
      "source": [
        "images = torch.tensor(noisyimg4, dtype = torch.float32)\n",
        "images = images.unsqueeze(0)\n",
        "images = images.unsqueeze(0)\n",
        "print(images.shape)\n",
        "print(images.type())\n"
      ],
      "metadata": {
        "colab": {
          "base_uri": "https://localhost:8080/"
        },
        "id": "meJTA5rsvElf",
        "outputId": "d51f1ace-92e6-4ca1-97a3-c8a9dc920131"
      },
      "execution_count": 39,
      "outputs": [
        {
          "output_type": "stream",
          "name": "stdout",
          "text": [
            "torch.Size([1, 1, 32, 32])\n",
            "torch.FloatTensor\n"
          ]
        }
      ]
    },
    {
      "cell_type": "code",
      "source": [
        "classifierModel.eval()\n",
        "images = Variable(images)\n",
        "outputs = classifierModel(images)\n",
        "_, predicted = torch.max(outputs.data, 1)\n",
        "print(classes[predicted])\n"
      ],
      "metadata": {
        "colab": {
          "base_uri": "https://localhost:8080/"
        },
        "id": "4DEyaWS0vEuj",
        "outputId": "f81a900b-9b8c-4e33-8bd9-02ab7ffac919"
      },
      "execution_count": 45,
      "outputs": [
        {
          "output_type": "stream",
          "name": "stdout",
          "text": [
            "Shirt\n"
          ]
        }
      ]
    },
    {
      "cell_type": "code",
      "source": [
        "noiseMatrix = np.random.random((32,32))\n",
        "print(noiseMatrix)"
      ],
      "metadata": {
        "colab": {
          "base_uri": "https://localhost:8080/"
        },
        "id": "d2FBO6ntvE3R",
        "outputId": "04bab046-b025-400e-a6ef-091637e9f3fe"
      },
      "execution_count": 41,
      "outputs": [
        {
          "output_type": "stream",
          "name": "stdout",
          "text": [
            "[[0.3615576  0.50663918 0.53203734 ... 0.83636536 0.80230865 0.03660918]\n",
            " [0.47134858 0.4971211  0.27441848 ... 0.14215745 0.50056227 0.63682598]\n",
            " [0.59865778 0.22540092 0.7385403  ... 0.48082261 0.95473539 0.97388257]\n",
            " ...\n",
            " [0.95134119 0.98385289 0.12975903 ... 0.66434895 0.726451   0.60470272]\n",
            " [0.66964156 0.94382819 0.65179952 ... 0.95314624 0.37154231 0.40371815]\n",
            " [0.44252937 0.41997338 0.50565223 ... 0.65316316 0.5366286  0.93307201]]\n"
          ]
        }
      ]
    },
    {
      "cell_type": "code",
      "source": [
        "noisyimg5 = img5 + noiseMatrix\n",
        "plt.imshow(noisyimg5)\n",
        "plt.show()\n"
      ],
      "metadata": {
        "colab": {
          "base_uri": "https://localhost:8080/",
          "height": 430
        },
        "id": "5bxoMyAEvFA_",
        "outputId": "6004ca6e-966f-4f35-b02c-1afd13e06f82"
      },
      "execution_count": 42,
      "outputs": [
        {
          "output_type": "display_data",
          "data": {
            "text/plain": [
              "<Figure size 640x480 with 1 Axes>"
            ],
            "image/png": "[encoded data removed]"
          },
          "metadata": {}
        }
      ]
    },
    {
      "cell_type": "code",
      "source": [
        "images = torch.tensor(noisyimg5, dtype = torch.float32)\n",
        "images = images.unsqueeze(0)\n",
        "images = images.unsqueeze(0)\n",
        "print(images.shape)\n",
        "print(images.type())\n"
      ],
      "metadata": {
        "colab": {
          "base_uri": "https://localhost:8080/"
        },
        "id": "lcKUNdemvFJj",
        "outputId": "f9a35de5-c53b-4d5a-fed3-468a0c6e369e"
      },
      "execution_count": 46,
      "outputs": [
        {
          "output_type": "stream",
          "name": "stdout",
          "text": [
            "torch.Size([1, 1, 32, 32])\n",
            "torch.FloatTensor\n"
          ]
        }
      ]
    },
    {
      "cell_type": "code",
      "source": [
        "classifierModel.eval()\n",
        "images = Variable(images)\n",
        "outputs = classifierModel(images)\n",
        "_, predicted = torch.max(outputs.data, 1)\n",
        "print(classes[predicted])\n"
      ],
      "metadata": {
        "colab": {
          "base_uri": "https://localhost:8080/"
        },
        "id": "Tijuqd4hvFSw",
        "outputId": "d7968d2b-5b82-4fcc-a01a-232efc82dca1"
      },
      "execution_count": 47,
      "outputs": [
        {
          "output_type": "stream",
          "name": "stdout",
          "text": [
            "Shirt\n"
          ]
        }
      ]
    },
    {
      "cell_type": "code",
      "source": [],
      "metadata": {
        "id": "AC6H3HujvFaK"
      },
      "execution_count": null,
      "outputs": []
    }
  ],
  "metadata": {
    "kernelspec": {
      "display_name": "Python 3",
      "language": "python",
      "name": "python3"
    },
    "language_info": {
      "codemirror_mode": {
        "name": "ipython",
        "version": 3
      },
      "file_extension": ".py",
      "mimetype": "text/x-python",
      "name": "python",
      "nbconvert_exporter": "python",
      "pygments_lexer": "ipython3",
      "version": "3.8.5"
    },
    "colab": {
      "provenance": []
    }
  },
  "nbformat": 4,
  "nbformat_minor": 0
}